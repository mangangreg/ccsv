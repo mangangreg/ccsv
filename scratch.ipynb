{
 "cells": [
  {
   "cell_type": "code",
   "execution_count": 1,
   "metadata": {
    "ExecuteTime": {
     "end_time": "2021-03-01T00:37:31.760435Z",
     "start_time": "2021-03-01T00:37:31.717279Z"
    }
   },
   "outputs": [],
   "source": [
    "import csv\n",
    "import json\n",
    "import re\n",
    "import pyparsing"
   ]
  },
  {
   "cell_type": "markdown",
   "metadata": {},
   "source": [
    "# Splitting\n",
    "\n",
    "Initial splitting of the file into components"
   ]
  },
  {
   "cell_type": "code",
   "execution_count": 41,
   "metadata": {
    "ExecuteTime": {
     "end_time": "2021-02-16T19:29:03.967468Z",
     "start_time": "2021-02-16T19:29:03.958361Z"
    }
   },
   "outputs": [
    {
     "name": "stdout",
     "output_type": "stream",
     "text": [
      "<re.Match object; span=(0, 28), match='<config something=\"yeah\" no>'>\n",
      "{'name': 'config', 'attrs': ' something=\"yeah\" no'}\n"
     ]
    }
   ],
   "source": [
    "# Patterns\n",
    "re_open_tag = r'\\s*<(?P<name>[^/][a-z]+)(?P<attrs>[^>]*)>\\s*'\n",
    "re_close_tag = r'\\s*</(?P<name>[a-z]+)\\s*>\\s*'\n",
    "\n",
    "\n",
    "match = re.match(re_open_tag,'<config something=\"yeah\" no>')\n",
    "if match:\n",
    "    print(match)\n",
    "    print(match.groupdict())"
   ]
  },
  {
   "cell_type": "code",
   "execution_count": 32,
   "metadata": {
    "ExecuteTime": {
     "end_time": "2021-02-16T19:13:41.060277Z",
     "start_time": "2021-02-16T19:13:41.055065Z"
    }
   },
   "outputs": [
    {
     "name": "stdout",
     "output_type": "stream",
     "text": [
      "<re.Match object; span=(0, 9), match='</config>'>\n"
     ]
    }
   ],
   "source": [
    "match = re.match(re_close_tag,'</config>')\n",
    "print(match)"
   ]
  },
  {
   "cell_type": "code",
   "execution_count": 143,
   "metadata": {
    "ExecuteTime": {
     "end_time": "2021-02-17T02:52:03.209328Z",
     "start_time": "2021-02-17T02:52:03.165837Z"
    }
   },
   "outputs": [
    {
     "name": "stdout",
     "output_type": "stream",
     "text": [
      "exiting csv read, found tag in line:['<config>']\n",
      "reading from readlines:\n",
      "found closing tag for <config>\n",
      "found closing tag for <style>\n",
      "found closing tag for <something>\n"
     ]
    },
    {
     "data": {
      "text/plain": [
       "([['item', 'cost', 'quantity', 'total'],\n",
       "  ['chalk', '3.50', '2', '=cost*quantity'],\n",
       "  ['cheese', '1.99', '10', '=cost*quantity'],\n",
       "  ['Total{boldface}', '', 'sum(1:', 'total)']],\n",
       " {'config': '{\"_version\": 1.1,\"_name\": \"mySheet\"}',\n",
       "  'style': 'th{background: blue;}.boldface{fontweight: 500;}',\n",
       "  'something': 'content'})"
      ]
     },
     "execution_count": 143,
     "metadata": {},
     "output_type": "execute_result"
    }
   ],
   "source": [
    "def parse_ccsv(filename):\n",
    "    tags = {}\n",
    "    csv_lines = []\n",
    "    \n",
    "    # First read csv content at the top\n",
    "    with open(filename, 'r') as rfile:\n",
    "\n",
    "        for line in csv.reader(rfile):\n",
    "            open_tag_match = re.match(re_open_tag,line[0])\n",
    "            if open_tag_match:\n",
    "                print(f'exiting csv read, found tag in line:{line}')\n",
    "                break\n",
    "\n",
    "            else:\n",
    "                csv_lines.append(line)\n",
    "\n",
    "        if not bool(open_tag_match):\n",
    "            return csv_lines, tags\n",
    "        \n",
    "            \n",
    "        \n",
    "        current_tag = open_tag_match.groupdict()['name']\n",
    "        current_tag_contents = ''\n",
    "\n",
    "        print('reading from readlines:')\n",
    "        for line in rfile.readlines():\n",
    "            if current_tag:\n",
    "                close_tag_match = re.match(re_close_tag, line)\n",
    "                if close_tag_match:\n",
    "                    if close_tag_match.groupdict()['name'] == current_tag:\n",
    "                        print(f'found closing tag for <{current_tag}>')\n",
    "                    else:\n",
    "                        raise ValueError(f'Incorrect closing tag found for <{current_tag}> tag')\n",
    "                    \n",
    "                    # Store the contents and clear the temporary variables\n",
    "                    tags[current_tag] = current_tag_contents\n",
    "                    current_tag_contents = ''\n",
    "                    current_tag = None\n",
    "                    open_tag_found = False\n",
    "                    continue\n",
    "                else:\n",
    "                    current_tag_contents += line.strip()\n",
    "            else:\n",
    "                open_tag_match = re.match(re_open_tag,line)\n",
    "                if open_tag_match:\n",
    "                    current_tag = open_tag_match.groupdict()['name']\n",
    "                    current_tag_contents = ''\n",
    "                    continue\n",
    "    \n",
    "    return csv_lines, tags\n",
    "            \n",
    "parse_ccsv('examples/demo_v1.ccsv')"
   ]
  },
  {
   "cell_type": "code",
   "execution_count": 144,
   "metadata": {
    "ExecuteTime": {
     "end_time": "2021-02-17T02:52:06.314553Z",
     "start_time": "2021-02-17T02:52:06.296199Z"
    },
    "scrolled": true
   },
   "outputs": [
    {
     "name": "stdout",
     "output_type": "stream",
     "text": [
      "exiting csv read, found tag in line:['<config>']\n",
      "reading from readlines:\n",
      "found closing tag for <config>\n",
      "found closing tag for <style>\n",
      "found closing tag for <something>\n"
     ]
    },
    {
     "data": {
      "text/plain": [
       "([['item', 'cost', 'quantity', 'total'],\n",
       "  ['chalk', '3.50', '2', '=cost*quantity'],\n",
       "  ['cheese', '1.99', '10', '=cost*quantity'],\n",
       "  ['Total{boldface}', '', 'sum(1:', 'total)']],\n",
       " {'config': '{\"_version\": 1.1,\"_name\": \"mySheet\"}',\n",
       "  'style': 'th{background: blue;}.boldface{fontweight: 500;}',\n",
       "  'something': 'content'})"
      ]
     },
     "execution_count": 144,
     "metadata": {},
     "output_type": "execute_result"
    }
   ],
   "source": [
    "csv_lines, tags = parse_ccsv('examples/demo_v1.ccsv')\n",
    "csv_lines,tags\n"
   ]
  },
  {
   "cell_type": "code",
   "execution_count": 54,
   "metadata": {
    "ExecuteTime": {
     "end_time": "2021-02-16T19:32:03.377750Z",
     "start_time": "2021-02-16T19:32:03.370429Z"
    }
   },
   "outputs": [
    {
     "data": {
      "text/plain": [
       "'th{background: blue;}.boldface{fontweight: 500;}'"
      ]
     },
     "execution_count": 54,
     "metadata": {},
     "output_type": "execute_result"
    }
   ],
   "source": [
    "tags['style']"
   ]
  },
  {
   "cell_type": "code",
   "execution_count": 50,
   "metadata": {
    "ExecuteTime": {
     "end_time": "2021-02-16T19:31:18.207993Z",
     "start_time": "2021-02-16T19:31:18.199763Z"
    }
   },
   "outputs": [
    {
     "data": {
      "text/plain": [
       "{'_version': 1.1, '_name': 'mySheet'}"
      ]
     },
     "execution_count": 50,
     "metadata": {},
     "output_type": "execute_result"
    }
   ],
   "source": [
    "json.loads(tags['config'])"
   ]
  },
  {
   "cell_type": "markdown",
   "metadata": {
    "ExecuteTime": {
     "end_time": "2021-02-17T00:58:22.214411Z",
     "start_time": "2021-02-17T00:58:22.209642Z"
    }
   },
   "source": [
    "# Parse calculations\n",
    "\n",
    "Parse the math calculations\n",
    "\n",
    "Examples:\n",
    "- = 2+2\n",
    "- = ['quantity'] * ['cost'] * 3\n",
    "- = SUM([3:4,'total'])\n",
    "- = SUM([3:.,'total']) # 3 to here?\n",
    "- = SUM([3:,'total']) # 3 to the end\n",
    "\n",
    "\n",
    "Todo:\n",
    "1. Define a vector Class?\n",
    "2. Define grammar and parsing\n",
    "    - Do a simple parser\n",
    "    - Look at using pyparsing"
   ]
  },
  {
   "cell_type": "code",
   "execution_count": 2,
   "metadata": {
    "ExecuteTime": {
     "end_time": "2021-03-01T00:37:38.671855Z",
     "start_time": "2021-03-01T00:37:38.635126Z"
    }
   },
   "outputs": [
    {
     "data": {
      "text/plain": [
       "['total', '*', '3.12', '+', '7', '-', 'something']"
      ]
     },
     "execution_count": 2,
     "metadata": {},
     "output_type": "execute_result"
    }
   ],
   "source": [
    "def simple_parser(cell_string):\n",
    "    operators = {\n",
    "        '*': lambda x,y:x*y,\n",
    "        '+': lambda x,y:x+y,\n",
    "        '-': lambda x,y:x-y,\n",
    "        '/': lambda x,y:x/y\n",
    "    }\n",
    "    \n",
    "    parts = []\n",
    "    current_col, current_num = \"\", \"\"\n",
    "    reading_num, reading_col = False, False\n",
    "    \n",
    "    for char in cell_string:\n",
    "        \n",
    "        if reading_num:\n",
    "            if char.isdigit() or char=='.':\n",
    "                current_num += char\n",
    "                continue\n",
    "            else:\n",
    "                parts.append(current_num)\n",
    "                current_num = ''\n",
    "                reading_num=False\n",
    "                \n",
    "        # If currently reading a col\n",
    "        if reading_col:\n",
    "            if char.isalpha() or char=='_':\n",
    "                current_col += char\n",
    "                continue\n",
    "                \n",
    "            else:\n",
    "                parts.append(current_col)\n",
    "                current_col = ''\n",
    "                reading_col=False\n",
    "        \n",
    "        if char.isalpha() or char=='_':\n",
    "            current_col += char\n",
    "            reading_col=True\n",
    "            \n",
    "        elif char in operators:\n",
    "            parts.append(char)\n",
    "            \n",
    "        elif char.isdigit() or char=='.':\n",
    "            current_num += char\n",
    "            reading_num=True\n",
    "    \n",
    "    # Closing out \n",
    "    if reading_num:\n",
    "        parts.append(current_num)\n",
    "        \n",
    "    elif reading_col:\n",
    "        parts.append(current_col)\n",
    "        \n",
    "    return parts\n",
    "        \n",
    "simple_parser(\"total*3.12+7 - something \")"
   ]
  },
  {
   "cell_type": "code",
   "execution_count": 111,
   "metadata": {
    "ExecuteTime": {
     "end_time": "2021-02-17T02:29:36.624633Z",
     "start_time": "2021-02-17T02:29:36.616639Z"
    }
   },
   "outputs": [
    {
     "data": {
      "text/plain": [
       "[['item', 'cost', 'quantity', 'total'],\n",
       " ['chalk', '3.50', '2', '=cost*quantity'],\n",
       " ['cheese', '1.99', '1=cost*quantity'],\n",
       " ['Total{boldface}', '', 'sum(1:', 'total)']]"
      ]
     },
     "execution_count": 111,
     "metadata": {},
     "output_type": "execute_result"
    }
   ],
   "source": [
    "csv_lines"
   ]
  },
  {
   "cell_type": "code",
   "execution_count": 120,
   "metadata": {
    "ExecuteTime": {
     "end_time": "2021-02-17T02:34:18.013726Z",
     "start_time": "2021-02-17T02:34:18.004776Z"
    }
   },
   "outputs": [
    {
     "data": {
      "text/plain": [
       "{'item': 0, 'cost': 1, 'quantity': 2, 'total': 3}"
      ]
     },
     "execution_count": 120,
     "metadata": {},
     "output_type": "execute_result"
    }
   ],
   "source": [
    "dict( (y,x) for x,y in enumerate(csv_lines[0]))"
   ]
  },
  {
   "cell_type": "code",
   "execution_count": 145,
   "metadata": {
    "ExecuteTime": {
     "end_time": "2021-02-17T02:52:12.196042Z",
     "start_time": "2021-02-17T02:52:12.184202Z"
    }
   },
   "outputs": [
    {
     "name": "stdout",
     "output_type": "stream",
     "text": [
      "['item', 'cost', 'quantity', 'total']  ---> ['item', 'cost', 'quantity', 'total']\n",
      "['chalk', '3.50', '2', '=cost*quantity']  -*-> ['chalk', '3.50', '2', 7.0]\n",
      "['cheese', '1.99', '10', '=cost*quantity']  -*-> ['cheese', '1.99', '10', 19.9]\n",
      "['Total{boldface}', '', 'sum(1:', 'total)']  ---> ['Total{boldface}', '', 'sum(1:', 'total)']\n"
     ]
    }
   ],
   "source": [
    "def compute_csv(lines):\n",
    "\n",
    "    hdict = dict( (y,x) for x,y in enumerate(csv_lines[0]))\n",
    "\n",
    "    for line in csv_lines:\n",
    "        new_line = []\n",
    "        changed=False\n",
    "        for cell in line:\n",
    "            if cell.startswith('='):\n",
    "                parsed=simple_parser(cell.lstrip('= '))\n",
    "                mult_ind = parsed.index('*')\n",
    "                if mult_ind:\n",
    "                    val1 = float(line[hdict[parsed[mult_ind-1]]])\n",
    "                    val2 = float(line[hdict[parsed[mult_ind+1]]])\n",
    "                    val = val1 * val2\n",
    "                    changed=True\n",
    "                    new_line.append(val)\n",
    "            else:\n",
    "                new_line.append(cell)\n",
    "        \n",
    "        print(f\"{line}  -{'*' if changed else '-'}-> {new_line}\")\n",
    "\n",
    "compute_csv(csv_lines)\n"
   ]
  },
  {
   "cell_type": "code",
   "execution_count": 83,
   "metadata": {
    "ExecuteTime": {
     "end_time": "2021-02-17T01:47:36.523819Z",
     "start_time": "2021-02-17T01:47:36.506014Z"
    }
   },
   "outputs": [],
   "source": [
    "class String(object):\n",
    "    def __init__(self, result):\n",
    "        self.value = result[0]\n",
    "\n",
    "    def generate(self):\n",
    "        return \"'{}'\".format(self.value)\n",
    "\n",
    "class Number(object):\n",
    "    def __init__(self, result):\n",
    "        self.value = result[0]\n",
    "\n",
    "    def generate(self):\n",
    "        return self.value\n",
    "\n",
    "class Identifier(object):\n",
    "    def __init__(self, result):\n",
    "        self.name = result[0]\n",
    "\n",
    "    def generate(self):\n",
    "        return self.name\n",
    "\n",
    "class Condition(object):\n",
    "    def __init__(self, tokens):\n",
    "        self.identifier = tokens[0][0]\n",
    "        self.op = tokens[0][1]\n",
    "        self.rval = tokens[0][2]\n",
    "\n",
    "    def generate(self):\n",
    "        return \" \".join((self.identifier.generate(), self.op, self.rval.generate()))\n",
    "\n",
    "lparen = pp.Suppress(\"(\")\n",
    "rparen = pp.Suppress(\")\")\n",
    "\n",
    "and_ = pp.Literal(\"AND\")\n",
    "or_ = pp.Literal(\"OR\")\n",
    "\n",
    "operator = pp.oneOf((\"=\", \"!=\", \">\", \">=\", \"<\", \"<=\"))\n",
    "\n",
    "alphaword = pp.Word(pp.alphanums + \"_\")\n",
    "string = pp.QuotedString(quoteChar=\"'\").setParseAction(String)\n",
    "\n",
    "number = (\n",
    " pp.Word(pp.nums) + pp.Optional(\".\" + pp.OneOrMore(pp.Word(pp.nums)))\n",
    ").setParseAction(Number)\n",
    "\n",
    "identifier = alphaword.setParseAction(\n",
    " Identifier\n",
    ")\n",
    "\n",
    "condition = pp.Group(\n",
    " identifier + (operator + (string | number))\n",
    ").setParseAction(Condition)"
   ]
  },
  {
   "cell_type": "code",
   "execution_count": 84,
   "metadata": {
    "ExecuteTime": {
     "end_time": "2021-02-17T01:47:54.306252Z",
     "start_time": "2021-02-17T01:47:54.296573Z"
    }
   },
   "outputs": [
    {
     "data": {
      "text/plain": [
       "([<__main__.Number object at 0x7f3fbcf25250>], {})"
      ]
     },
     "execution_count": 84,
     "metadata": {},
     "output_type": "execute_result"
    }
   ],
   "source": [
    "number.parseString('1.32')"
   ]
  },
  {
   "cell_type": "code",
   "execution_count": 91,
   "metadata": {
    "ExecuteTime": {
     "end_time": "2021-02-17T01:50:07.459805Z",
     "start_time": "2021-02-17T01:50:07.452333Z"
    }
   },
   "outputs": [
    {
     "data": {
      "text/plain": [
       "'7'"
      ]
     },
     "execution_count": 91,
     "metadata": {},
     "output_type": "execute_result"
    }
   ],
   "source": [
    "condition.parseString('y=7.3')[0].rval.value"
   ]
  },
  {
   "cell_type": "markdown",
   "metadata": {},
   "source": [
    "# Yaml approach"
   ]
  },
  {
   "cell_type": "code",
   "execution_count": 32,
   "metadata": {
    "scrolled": true
   },
   "outputs": [
    {
     "name": "stdout",
     "output_type": "stream",
     "text": [
      "col1,col2\r\n",
      "a,b,7\r\n",
      "d,e,9\r\n"
     ]
    }
   ],
   "source": [
    "!cat examples/demo_v3_yaml.ccsv"
   ]
  },
  {
   "cell_type": "code",
   "execution_count": 6,
   "metadata": {},
   "outputs": [],
   "source": [
    "ypath = 'examples/demo_v3_yaml.ccsv'\n",
    "ystring = open(ypath).read()"
   ]
  },
  {
   "cell_type": "code",
   "execution_count": 73,
   "metadata": {
    "scrolled": true
   },
   "outputs": [
    {
     "data": {
      "text/plain": [
       "([['item', 'cost', 'quantity', 'total'],\n",
       "  ['chalk', '3.50', '2', '=cost*quantity'],\n",
       "  ['cheese', '1.99', '1', '=cost*quantity']],\n",
       " {'name': 'test',\n",
       "  'value': ['something1', 'something2,3,4'],\n",
       "  'style': {'body': {'background': 'blue', 'color': 'lightgrey'}}})"
      ]
     },
     "execution_count": 73,
     "metadata": {},
     "output_type": "execute_result"
    }
   ],
   "source": [
    "def file_splitter(filename):\n",
    "    ''' \n",
    "    Split the file into csv and config\n",
    "    \n",
    "    Returns:\n",
    "        csv_lines (list): list of strings where each string is a line of csv\n",
    "        config (dict): the parsed config from the yaml\n",
    "    \n",
    "    '''\n",
    "    reading_yaml_header = False\n",
    "    yaml_line_count = 0\n",
    "    \n",
    "    csv_lines = []\n",
    "    yaml_lines = []\n",
    "    with open(filename, 'r') as rfile:\n",
    "        for i, line in enumerate(csv.reader(rfile)):\n",
    "            if i == 0 and line[0].startswith('---'):\n",
    "                reading_yaml_header = True\n",
    "                continue\n",
    "                \n",
    "            if reading_yaml_header:\n",
    "                if line[0].startswith('---'):\n",
    "                    reading_yaml_header = False\n",
    "                    continue\n",
    "                    \n",
    "                else:\n",
    "                    yaml_line_count += 1\n",
    "            else:\n",
    "                if len(line):\n",
    "                    csv_lines.append(line)\n",
    "    if yaml_line_count:\n",
    "        with open(filename, 'r') as rfile:\n",
    "            for i, line in enumerate(rfile):\n",
    "                if i == 0:\n",
    "                    continue \n",
    "                elif i > yaml_line_count: \n",
    "                    break\n",
    "                else:\n",
    "                    yaml_lines.append(line.rstrip())\n",
    "        \n",
    "    config = yaml.safe_load(StringIO(\"\\n\".join(yaml_lines)))\n",
    "    return csv_lines, config\n",
    "\n",
    "csv_lines, config= file_splitter(ypath)\n",
    "csv_lines, config"
   ]
  },
  {
   "cell_type": "code",
   "execution_count": 21,
   "metadata": {},
   "outputs": [],
   "source": [
    "from io import StringIO"
   ]
  },
  {
   "cell_type": "code",
   "execution_count": 10,
   "metadata": {},
   "outputs": [],
   "source": [
    "import yaml"
   ]
  },
  {
   "cell_type": "code",
   "execution_count": 13,
   "metadata": {},
   "outputs": [
    {
     "data": {
      "text/plain": [
       "'6.0'"
      ]
     },
     "execution_count": 13,
     "metadata": {},
     "output_type": "execute_result"
    }
   ],
   "source": [
    "yaml.__version__"
   ]
  },
  {
   "cell_type": "code",
   "execution_count": 25,
   "metadata": {},
   "outputs": [
    {
     "data": {
      "text/plain": [
       "<_io.StringIO at 0x7fbd13908ca0>"
      ]
     },
     "execution_count": 25,
     "metadata": {},
     "output_type": "execute_result"
    }
   ],
   "source": [
    "StringIO(\"\".join(yaml_lines))"
   ]
  },
  {
   "cell_type": "code",
   "execution_count": 31,
   "metadata": {
    "scrolled": true
   },
   "outputs": [
    {
     "data": {
      "text/plain": [
       "{'name': 'test',\n",
       " 'value': ['something1', 'something2'],\n",
       " 'style': {'.body': {'background': 'blue'}}}"
      ]
     },
     "execution_count": 31,
     "metadata": {},
     "output_type": "execute_result"
    }
   ],
   "source": [
    "yaml.safe_load(StringIO(\"\\n\".join(yaml_lines)))"
   ]
  },
  {
   "cell_type": "code",
   "execution_count": null,
   "metadata": {},
   "outputs": [],
   "source": [
    "open()"
   ]
  },
  {
   "cell_type": "code",
   "execution_count": 39,
   "metadata": {
    "scrolled": true
   },
   "outputs": [
    {
     "name": "stdout",
     "output_type": "stream",
     "text": [
      "['---']\n",
      "['name: test']\n",
      "['value:']\n",
      "['  - something1']\n",
      "['  - something2', '3', '4']\n",
      "['style:']\n",
      "['  \".body\":']\n",
      "['    background: blue']\n",
      "['---']\n",
      "['item', 'cost', 'quantity', 'total']\n",
      "['chalk', '3.50', '2', '=cost*quantity']\n",
      "['cheese', '1.99', '1', '=cost*quantity']\n"
     ]
    }
   ],
   "source": [
    "import csv\n",
    "with open('examples/demo_v3_yaml.ccsv', 'r') as rfile:\n",
    "        for i, line in enumerate(csv.reader(rfile)):\n",
    "            print(line)"
   ]
  },
  {
   "cell_type": "code",
   "execution_count": 68,
   "metadata": {},
   "outputs": [
    {
     "name": "stdout",
     "output_type": "stream",
     "text": [
      ".body {\n",
      "   background: blue;\n",
      "   color: lightgrey;\n",
      "}\n",
      "\n"
     ]
    }
   ],
   "source": [
    "def compile_css(style_obj, indent=2):\n",
    "    # Assume simple structure\n",
    "    css_string = ''\n",
    "    for selector, rules in style_obj.items():\n",
    "        css_string += f\"{selector} {{\\n\"\n",
    "        for key,val in rules.items():\n",
    "            css_string += f\"{indent*' '} {key}: {val};\\n\"\n",
    "        css_string += '}\\n'\n",
    "            \n",
    "    return css_string\n",
    "res = compile_css(config['style'])\n",
    "print(res)\n",
    "        "
   ]
  },
  {
   "cell_type": "code",
   "execution_count": 64,
   "metadata": {},
   "outputs": [],
   "source": [
    "from pathlib import Path"
   ]
  },
  {
   "cell_type": "code",
   "execution_count": 74,
   "metadata": {},
   "outputs": [
    {
     "name": "stdout",
     "output_type": "stream",
     "text": [
      "\n",
      "    <html>\n",
      "      <head>\n",
      "        <style>\n",
      "        body {\n",
      "   background: blue;\n",
      "   color: lightgrey;\n",
      "}\n",
      "\n",
      "        </style>\n",
      "      </head>\n",
      "      <body>\n",
      "        <table>\n",
      "<tbody>\n",
      "<tbody><tr>\n",
      "<th> item </th><th> cost </th><th> quantity </th><th> total </th></tr>\n",
      "<tr>\n",
      "<td> chalk </td><td> 3.50 </td><td> 2 </td><td> 7.0 </td></tr>\n",
      "<tr>\n",
      "<td> cheese </td><td> 1.99 </td><td> 1 </td><td> 1.99 </td></tr>\n",
      "</tbody>\n",
      "</table>\n",
      "        </body>\n",
      "    </html>\n",
      "    \n"
     ]
    }
   ],
   "source": [
    "def build_table(csv_path):\n",
    "    table_string = ''\n",
    "    table_string += '<table>\\n<tbody>\\n'\n",
    "    table_string += '<tbody>'\n",
    "    with open(csv_path, 'r') as rfile:\n",
    "        for i, row in enumerate(csv.reader(rfile)):\n",
    "            table_string += '<tr>\\n'\n",
    "            tag = 'td' if i!=0 else 'th'\n",
    "            for cell in row:\n",
    "                table_string += f\"<{tag}> {cell} </{tag}>\"\n",
    "            table_string += '</tr>\\n'\n",
    "            \n",
    "        table_string += '</tbody>\\n</table>'\n",
    "    return table_string\n",
    "\n",
    "def build_html(csv_path, config, outdir='examples'):\n",
    "    csv_path = Path(csv_path)\n",
    "    css_string = compile_css(config['style'])\n",
    "    table_string = build_table(csv_path) \n",
    "    html_string = f'''\n",
    "    <html>\n",
    "      <head>\n",
    "        <style>\n",
    "        {css_string}\n",
    "        </style>\n",
    "      </head>\n",
    "      <body>\n",
    "        {table_string}\n",
    "        </body>\n",
    "    </html>\n",
    "    '''\n",
    "    if outdir:\n",
    "        with open(f\"{outdir}/{csv_path.stem}.html\", 'w') as wfile:\n",
    "            wfile.write(html_string)\n",
    "    return html_string\n",
    "    \n",
    "print(build_html('examples/demo_v3_yaml.csv', config))"
   ]
  }
 ],
 "metadata": {
  "kernelspec": {
   "display_name": "Python 3 (ipykernel)",
   "language": "python",
   "name": "python3"
  },
  "language_info": {
   "codemirror_mode": {
    "name": "ipython",
    "version": 3
   },
   "file_extension": ".py",
   "mimetype": "text/x-python",
   "name": "python",
   "nbconvert_exporter": "python",
   "pygments_lexer": "ipython3",
   "version": "3.9.13"
  },
  "toc": {
   "base_numbering": 1,
   "nav_menu": {},
   "number_sections": true,
   "sideBar": true,
   "skip_h1_title": false,
   "title_cell": "Table of Contents",
   "title_sidebar": "Contents",
   "toc_cell": false,
   "toc_position": {},
   "toc_section_display": true,
   "toc_window_display": false
  },
  "varInspector": {
   "cols": {
    "lenName": 16,
    "lenType": 16,
    "lenVar": 40
   },
   "kernels_config": {
    "python": {
     "delete_cmd_postfix": "",
     "delete_cmd_prefix": "del ",
     "library": "var_list.py",
     "varRefreshCmd": "print(var_dic_list())"
    },
    "r": {
     "delete_cmd_postfix": ") ",
     "delete_cmd_prefix": "rm(",
     "library": "var_list.r",
     "varRefreshCmd": "cat(var_dic_list()) "
    }
   },
   "types_to_exclude": [
    "module",
    "function",
    "builtin_function_or_method",
    "instance",
    "_Feature"
   ],
   "window_display": false
  }
 },
 "nbformat": 4,
 "nbformat_minor": 4
}
